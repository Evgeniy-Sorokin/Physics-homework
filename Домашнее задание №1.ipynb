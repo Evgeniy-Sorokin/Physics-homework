{
 "cells": [
  {
   "cell_type": "code",
   "execution_count": 21,
   "metadata": {},
   "outputs": [],
   "source": [
    "import cmath"
   ]
  },
  {
   "cell_type": "code",
   "execution_count": 54,
   "metadata": {},
   "outputs": [],
   "source": [
    "import math"
   ]
  },
  {
   "cell_type": "code",
   "execution_count": 74,
   "metadata": {},
   "outputs": [],
   "source": [
    "import numpy as np"
   ]
  },
  {
   "cell_type": "markdown",
   "metadata": {},
   "source": [
    "# №1 (рекурсия вверх)"
   ]
  },
  {
   "cell_type": "code",
   "execution_count": 63,
   "metadata": {},
   "outputs": [
    {
     "name": "stdout",
     "output_type": "stream",
     "text": [
      "Введите значение константы: a\n",
      "1\n",
      "Введите \"порядок\" интеграла: n\n",
      "25\n",
      "0.019600318982883363\n"
     ]
    }
   ],
   "source": [
    "print('Введите значение константы: a')\n",
    "a = float(input())\n",
    "print('Введите \"порядок\" интеграла: n')\n",
    "n = float(input())\n",
    "\n",
    "def int_N(n):\n",
    "    с = abs(1/a + 1)\n",
    "    if n == 0:\n",
    "        return math.log(c)\n",
    "    else:\n",
    "        return 1/n - a*int_N(n-1)\n",
    "\n",
    "print(int_N(n))"
   ]
  },
  {
   "cell_type": "markdown",
   "metadata": {},
   "source": [
    "# №1 (рекурсия вниз)"
   ]
  },
  {
   "cell_type": "code",
   "execution_count": 139,
   "metadata": {},
   "outputs": [
    {
     "name": "stdout",
     "output_type": "stream",
     "text": [
      "Введите значение константы: a\n",
      "1\n",
      "Введите \"порядок\" интеграла: n\n",
      "100\n",
      "0.01457532023263345\n"
     ]
    }
   ],
   "source": [
    "print('Введите значение константы: a')\n",
    "a = float(input())\n",
    "print('Введите \"порядок\" интеграла: n')\n",
    "n = int(input())\n",
    "s = np.zeros(n)\n",
    "for i in range(2, n):\n",
    "    s[n-i] = (1/(n-i+1) - s[n-i+1])/a\n",
    "print(s[25])\n"
   ]
  },
  {
   "cell_type": "markdown",
   "metadata": {},
   "source": [
    "# №2"
   ]
  },
  {
   "cell_type": "code",
   "execution_count": 71,
   "metadata": {},
   "outputs": [
    {
     "name": "stdout",
     "output_type": "stream",
     "text": [
      "Введите коэффициенты квадратного многочлена: b\n",
      "1\n",
      "Введите коэффициенты квадратного многочлена: c\n",
      "2\n",
      "(-0.49999999999999994+1.3228756555322954j) (-0.5000000000000001-1.3228756555322954j)\n"
     ]
    }
   ],
   "source": [
    "print('Введите коэффициенты квадратного многочлена: b')\n",
    "b = float(input())\n",
    "print('Введите коэффициенты квадратного многочлена: c')\n",
    "c = float(input())\n",
    "def solve_quad(b, c):\n",
    "    D = b**2 - 4*1*c\n",
    "    square_D = D**(1/2)\n",
    "    x_1: float or complex\n",
    "    x_2: float or complex\n",
    "    x_1 = (-b + square_D)/2\n",
    "    x_2 = (-b - square_D)/2\n",
    "    print(x_1, x_2)\n",
    "solve_quad(b, c)"
   ]
  },
  {
   "cell_type": "markdown",
   "metadata": {},
   "source": [
    "# №3\n"
   ]
  },
  {
   "cell_type": "code",
   "execution_count": 43,
   "metadata": {},
   "outputs": [
    {
     "name": "stdout",
     "output_type": "stream",
     "text": [
      "1\n",
      "-3\n"
     ]
    }
   ],
   "source": [
    "n = float(input())\n",
    "def recur(n):\n",
    "    if n == 0:\n",
    "        return 1\n",
    "    if n == 1:\n",
    "        return -3\n",
    "    return - recur(n-1) + 6*recur(n-2)\n",
    "print(recur(n))"
   ]
  },
  {
   "cell_type": "markdown",
   "metadata": {},
   "source": [
    "# №4"
   ]
  },
  {
   "cell_type": "code",
   "execution_count": 82,
   "metadata": {},
   "outputs": [
    {
     "data": {
      "text/plain": [
       "array([0., 0., 0.])"
      ]
     },
     "execution_count": 82,
     "metadata": {},
     "output_type": "execute_result"
    }
   ],
   "source": []
  },
  {
   "cell_type": "markdown",
   "metadata": {},
   "source": [
    "# №5"
   ]
  },
  {
   "cell_type": "code",
   "execution_count": 142,
   "metadata": {},
   "outputs": [
    {
     "name": "stdout",
     "output_type": "stream",
     "text": [
      "Введите x\n",
      "1.0005\n",
      "Введите n\n",
      "3\n"
     ]
    },
    {
     "data": {
      "text/plain": [
       "1.0"
      ]
     },
     "execution_count": 142,
     "metadata": {},
     "output_type": "execute_result"
    }
   ],
   "source": [
    "import math\n",
    "print('Введите x')\n",
    "x = float(input())\n",
    "print('Введите n')\n",
    "n = int(input())\n",
    "def round_to_n(x, n):\n",
    "    if x == 0:\n",
    "        return x\n",
    "    else:\n",
    "        return round(x, -int(math.floor(math.log10(abs(x)))) + (n - 1))\n",
    "round_to_n(x, n)"
   ]
  },
  {
   "cell_type": "code",
   "execution_count": null,
   "metadata": {},
   "outputs": [],
   "source": []
  }
 ],
 "metadata": {
  "kernelspec": {
   "display_name": "Python 3",
   "language": "python",
   "name": "python3"
  },
  "language_info": {
   "codemirror_mode": {
    "name": "ipython",
    "version": 3
   },
   "file_extension": ".py",
   "mimetype": "text/x-python",
   "name": "python",
   "nbconvert_exporter": "python",
   "pygments_lexer": "ipython3",
   "version": "3.8.3"
  }
 },
 "nbformat": 4,
 "nbformat_minor": 4
}
