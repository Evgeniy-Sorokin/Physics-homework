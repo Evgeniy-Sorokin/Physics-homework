{
 "cells": [
  {
   "cell_type": "code",
   "execution_count": 2,
   "metadata": {},
   "outputs": [],
   "source": [
    "import numpy as np\n",
    "import cmath\n",
    "import matplotlib.pyplot as plt \n",
    "%matplotlib inline"
   ]
  },
  {
   "cell_type": "markdown",
   "metadata": {},
   "source": [
    "# Задание №1"
   ]
  },
  {
   "cell_type": "code",
   "execution_count": 3,
   "metadata": {},
   "outputs": [],
   "source": [
    "n = 1000\n",
    "a = np.random.normal(0, 1, (n,n))\n",
    "A = a + a.T\n",
    "#спектр собственных значений\n",
    "#spectrum = np.diagflat(A)"
   ]
  },
  {
   "cell_type": "code",
   "execution_count": 4,
   "metadata": {},
   "outputs": [
    {
     "name": "stdout",
     "output_type": "stream",
     "text": [
      "[[-89.50396289   0.           0.         ...   0.           0.\n",
      "    0.        ]\n",
      " [  0.         -87.36326911   0.         ...   0.           0.\n",
      "    0.        ]\n",
      " [  0.           0.         -87.15204917 ...   0.           0.\n",
      "    0.        ]\n",
      " ...\n",
      " [  0.           0.           0.         ...  86.90528047   0.\n",
      "    0.        ]\n",
      " [  0.           0.           0.         ...   0.          87.47641665\n",
      "    0.        ]\n",
      " [  0.           0.           0.         ...   0.           0.\n",
      "   88.31150372]]\n"
     ]
    },
    {
     "data": {
      "image/png": "[encoded data removed]",
      "text/plain": [
       "<Figure size 432x288 with 1 Axes>"
      ]
     },
     "metadata": {
      "needs_background": "light"
     },
     "output_type": "display_data"
    }
   ],
   "source": [
    "Vec_l = np.linalg.eigvalsh(A)\n",
    "#спектр собственных значений\n",
    "spectrum = np.diagflat(Vec_l)\n",
    "print(spectrum)\n",
    "plt.title('Распределение собственных значений:')\n",
    "plt.hist(Vec_l, bins=50)\n",
    "plt.show()"
   ]
  },
  {
   "cell_type": "markdown",
   "metadata": {},
   "source": [
    "# Задание №2"
   ]
  },
  {
   "cell_type": "code",
   "execution_count": 6,
   "metadata": {},
   "outputs": [
    {
     "name": "stdout",
     "output_type": "stream",
     "text": [
      "2\n"
     ]
    }
   ],
   "source": [
    "n = 10\n",
    "a = np.random.normal(0, 1, (n, n))\n",
    "A = a@a.T\n",
    "\n",
    "eigen_values = np.linalg.eigvalsh(A)\n",
    "spectrum = np.diagflat(eigen_values)\n",
    "min_l = min(np.diag(A))\n",
    "k = 0\n",
    "while abs(eigen_values.min()-min_l) > abs(0.01*eigen_values.min()):\n",
    "    Q, R = np.linalg.qr(A)\n",
    "    A = R@Q\n",
    "    min_l = min(np.diag(A))\n",
    "    k += 1\n",
    "print(k)"
   ]
  },
  {
   "cell_type": "markdown",
   "metadata": {},
   "source": [
    "# Задание №4"
   ]
  },
  {
   "cell_type": "code",
   "execution_count": 7,
   "metadata": {},
   "outputs": [
    {
     "name": "stdout",
     "output_type": "stream",
     "text": [
      "Кол-во итераций: 8\n",
      "Вектор, соответствующий наибольшему значению, полученный путем итераций: 3.764\n",
      "Настоящий вектор, соответствующий наибольшему значению: 3.751\n"
     ]
    }
   ],
   "source": [
    "#1\n",
    "A = np.array([[3, 1, 0, 0], [1, 2, 0, 1], [0, 0, 1, 1], [0, 1, 1, 1]])\n",
    "random_vector = np.random.random(4)\n",
    "error = 0.01\n",
    "vec1 = np.copy(random_vector)\n",
    "vec0 = np.zeros(4)\n",
    "k = 0\n",
    "\n",
    "while np.linalg.norm(vec0-vec1) > error:\n",
    "    vec0 = vec1\n",
    "    vec1 = A@vec0\n",
    "    vec1 /= np.linalg.norm(vec1)\n",
    "    k += 1\n",
    "    \n",
    "m = (A@vec1)[0]/vec1[0]\n",
    "print('Кол-во итераций:', k)\n",
    "print('Вектор, соответствующий наибольшему значению, полученный путем итераций:', round(m, 3))\n",
    "print('Настоящий вектор, соответствующий наибольшему значению:', round(max(np.linalg.eigvalsh(A)),3))\n"
   ]
  },
  {
   "cell_type": "code",
   "execution_count": 8,
   "metadata": {},
   "outputs": [
    {
     "name": "stdout",
     "output_type": "stream",
     "text": [
      "3.5\n",
      "Кол-во итераций: 4\n",
      "Вектор, соответствующий наибольшему значению, полученный путем итераций: 3.752\n",
      "Настоящий вектор, соответствующий наибольшему значению: 3.751\n",
      "3.7\n",
      "Кол-во итераций: 3\n",
      "Вектор, соответствующий наибольшему значению, полученный путем итераций: 3.751\n",
      "Настоящий вектор, соответствующий наибольшему значению: 3.751\n"
     ]
    }
   ],
   "source": [
    "#2\n",
    "error = 0.01\n",
    "I = np.eye(4)\n",
    "Mu = [3.5, 3.7] \n",
    "\n",
    "\n",
    "for l in Mu:\n",
    "    A_reverse = np.linalg.inv(A-I*l)\n",
    "    v = np.copy(random_vector)\n",
    "    v_0 = np.zeros(4)\n",
    "    k = 0\n",
    "    \n",
    "    while np.linalg.norm(v_0-v) > error:\n",
    "        v_0 = v\n",
    "        v = v_0@A_reverse\n",
    "        v /= np.linalg.norm(v)\n",
    "        k += 1\n",
    "    m = (A@v)[0]/v[0]\n",
    "    print(l)\n",
    "    print('Кол-во итераций:', k)\n",
    "    print('Вектор, соответствующий наибольшему значению, полученный путем итераций:', round(m, 3))\n",
    "    print('Настоящий вектор, соответствующий наибольшему значению:', round(max(np.linalg.eigvalsh(A)),3))\n"
   ]
  },
  {
   "cell_type": "markdown",
   "metadata": {},
   "source": [
    "# Задание №5"
   ]
  },
  {
   "cell_type": "code",
   "execution_count": 15,
   "metadata": {},
   "outputs": [
    {
     "name": "stdout",
     "output_type": "stream",
     "text": [
      "[[-1.  1.  1. ...  0.  0.  0.]\n",
      " [ 0. -1.  1. ...  0.  0.  0.]\n",
      " [ 0.  0. -1. ...  0.  0.  0.]\n",
      " ...\n",
      " [ 0.  0.  0. ... -1.  1.  1.]\n",
      " [ 0.  0.  0. ...  0. -1.  1.]\n",
      " [ 0.  0.  0. ...  0.  0. -1.]]\n"
     ]
    },
    {
     "data": {
      "image/png": "[encoded data removed]",
      "text/plain": [
       "<Figure size 432x288 with 1 Axes>"
      ]
     },
     "metadata": {
      "needs_background": "light"
     },
     "output_type": "display_data"
    }
   ],
   "source": [
    "from scipy.linalg import expm\n",
    "def croneker(i,j):\n",
    "    if i == j:\n",
    "        return 1\n",
    "    if i != j:\n",
    "        return 0\n",
    "A=np.zeros((32,32))\n",
    "for i in range(32):\n",
    "        for j in range(32):\n",
    "            A[i,j]=-croneker(i,j)+croneker(i,j-1)+croneker(i,j-2)\n",
    "print(A)\n",
    "T=[]\n",
    "Exp=[]\n",
    "t=0\n",
    "while t < 50:\n",
    "    T.append(t)\n",
    "    Exp.append(np.linalg.norm(expm(A*t), ord='fro'))\n",
    "    t+=1\n",
    "import matplotlib.pyplot as plt\n",
    "plt.scatter(T, Exp)\n",
    "plt.grid()\n",
    "plt.show()"
   ]
  },
  {
   "cell_type": "code",
   "execution_count": null,
   "metadata": {},
   "outputs": [],
   "source": []
  }
 ],
 "metadata": {
  "kernelspec": {
   "display_name": "Python 3",
   "language": "python",
   "name": "python3"
  },
  "language_info": {
   "codemirror_mode": {
    "name": "ipython",
    "version": 3
   },
   "file_extension": ".py",
   "mimetype": "text/x-python",
   "name": "python",
   "nbconvert_exporter": "python",
   "pygments_lexer": "ipython3",
   "version": "3.8.3"
  }
 },
 "nbformat": 4,
 "nbformat_minor": 4
}
